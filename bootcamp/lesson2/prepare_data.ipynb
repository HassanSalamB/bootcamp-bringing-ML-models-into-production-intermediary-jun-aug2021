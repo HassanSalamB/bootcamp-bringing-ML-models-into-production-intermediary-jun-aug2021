{
 "cells": [
  {
   "cell_type": "markdown",
   "source": [
    "MIT License\n",
    "\n",
    "Copyright (c) Microsoft Corporation. All rights reserved.\n",
    "\n",
    "This notebook is adapted from [Francesca Lazzeri Energy Demand Forecast Workbench workshop](https://github.com/FrancescaLazzeri/EnergyDemandForecastWorkbench).\n",
    "\n",
    "Copyright (c) 2021 PyLadies Amsterdam, Alyona Galyeva\n"
   ],
   "metadata": {}
  },
  {
   "cell_type": "markdown",
   "source": [
    "# Data preparation\n",
    "Run this notebook to prepare the data for modelling and registering prepared datasets.\n",
    "\n",
    "**Important prerequisites**: \n",
    "- Change the kernel to Python 3.8.10...('mlops_train':conda) You can do this from the *Kernel* menu under *Change kernel*.\n",
    "\n",
    "Run each cell of this notebook to perform the following steps:\n",
    "- Import the data from csv files and merge the two datasets.\n",
    "- The data is cleaned by filling gaps in the time series and handling missing values.\n",
    "- The data is explored through visualisation.\n",
    "- Features for the forecasting models are computed.\n",
    "- Data is split into training and test sets.\n",
    "- Connect to Azure Machine learning workspace and register processed, train, test datasets"
   ],
   "metadata": {}
  },
  {
   "cell_type": "code",
   "execution_count": 1,
   "source": [
    "%matplotlib inline\r\n",
    "import os\r\n",
    "import matplotlib\r\n",
    "import matplotlib.pyplot as plt\r\n",
    "import numpy as np\r\n",
    "import pandas as pd\r\n",
    "from azureml.core import Workspace, Dataset\r\n",
    "from pandas.plotting import autocorrelation_plot\r\n",
    "from scipy import stats"
   ],
   "outputs": [],
   "metadata": {
    "scrolled": true
   }
  },
  {
   "cell_type": "markdown",
   "source": [
    "### Load energy demand data and merge with weather data"
   ],
   "metadata": {}
  },
  {
   "cell_type": "code",
   "execution_count": 3,
   "source": [
    "WORKDIR = os.getcwd()\r\n",
    "DATADIR = os.path.join(WORKDIR, 'datasets')"
   ],
   "outputs": [],
   "metadata": {}
  },
  {
   "cell_type": "code",
   "execution_count": 4,
   "source": [
    "demand_raw = pd.read_csv(os.path.join(DATADIR,'nyc_demand_raw.csv'), parse_dates=['timeStamp'])\r\n",
    "weather_raw = pd.read_csv(os.path.join(DATADIR,'nyc_weather_raw.csv'), parse_dates=['timeStamp'])\r\n",
    "demand = pd.merge(demand_raw, weather_raw, on=['timeStamp'], how='outer')\r\n",
    "demand['demand'] = demand['demand'].astype(float)\r\n",
    "demand.head()"
   ],
   "outputs": [
    {
     "output_type": "execute_result",
     "data": {
      "text/plain": [
       "            timeStamp  demand  precip   temp\n",
       "0 2012-01-01 00:00:00  4937.5     0.0  46.13\n",
       "1 2012-01-01 01:00:00  4752.1     0.0  45.89\n",
       "2 2012-01-01 02:00:00  4542.6     0.0  45.04\n",
       "3 2012-01-01 03:00:00  4357.7     0.0  45.03\n",
       "4 2012-01-01 04:00:00  4275.5     0.0  42.61"
      ],
      "text/html": [
       "<div>\n",
       "<style scoped>\n",
       "    .dataframe tbody tr th:only-of-type {\n",
       "        vertical-align: middle;\n",
       "    }\n",
       "\n",
       "    .dataframe tbody tr th {\n",
       "        vertical-align: top;\n",
       "    }\n",
       "\n",
       "    .dataframe thead th {\n",
       "        text-align: right;\n",
       "    }\n",
       "</style>\n",
       "<table border=\"1\" class=\"dataframe\">\n",
       "  <thead>\n",
       "    <tr style=\"text-align: right;\">\n",
       "      <th></th>\n",
       "      <th>timeStamp</th>\n",
       "      <th>demand</th>\n",
       "      <th>precip</th>\n",
       "      <th>temp</th>\n",
       "    </tr>\n",
       "  </thead>\n",
       "  <tbody>\n",
       "    <tr>\n",
       "      <th>0</th>\n",
       "      <td>2012-01-01 00:00:00</td>\n",
       "      <td>4937.5</td>\n",
       "      <td>0.0</td>\n",
       "      <td>46.13</td>\n",
       "    </tr>\n",
       "    <tr>\n",
       "      <th>1</th>\n",
       "      <td>2012-01-01 01:00:00</td>\n",
       "      <td>4752.1</td>\n",
       "      <td>0.0</td>\n",
       "      <td>45.89</td>\n",
       "    </tr>\n",
       "    <tr>\n",
       "      <th>2</th>\n",
       "      <td>2012-01-01 02:00:00</td>\n",
       "      <td>4542.6</td>\n",
       "      <td>0.0</td>\n",
       "      <td>45.04</td>\n",
       "    </tr>\n",
       "    <tr>\n",
       "      <th>3</th>\n",
       "      <td>2012-01-01 03:00:00</td>\n",
       "      <td>4357.7</td>\n",
       "      <td>0.0</td>\n",
       "      <td>45.03</td>\n",
       "    </tr>\n",
       "    <tr>\n",
       "      <th>4</th>\n",
       "      <td>2012-01-01 04:00:00</td>\n",
       "      <td>4275.5</td>\n",
       "      <td>0.0</td>\n",
       "      <td>42.61</td>\n",
       "    </tr>\n",
       "  </tbody>\n",
       "</table>\n",
       "</div>"
      ]
     },
     "metadata": {},
     "execution_count": 4
    }
   ],
   "metadata": {}
  },
  {
   "cell_type": "code",
   "execution_count": 5,
   "source": [
    "plt_df = demand.loc[(demand.timeStamp>'2016-07-01') & (demand.timeStamp<='2016-07-07')]\r\n",
    "plt.plot(plt_df['timeStamp'], plt_df['demand'])\r\n",
    "plt.title('New York City power demand over one week in July 2017')\r\n",
    "plt.xticks(rotation=45)\r\n",
    "plt.show()"
   ],
   "outputs": [
    {
     "output_type": "display_data",
     "data": {
      "text/plain": [
       "<Figure size 432x288 with 1 Axes>"
      ],
      "image/png": "[encoded data removed]"
     },
     "metadata": {
      "needs_background": "light"
     }
    }
   ],
   "metadata": {}
  },
  {
   "cell_type": "markdown",
   "source": [
    "### Fill gaps in the time series"
   ],
   "metadata": {}
  },
  {
   "cell_type": "markdown",
   "source": [
    "Some periods in the time series are missing. This occurs if the period was missing in both the original demand and weather datasets. To identify these gaps, first we create an index of time periods that we would *expect* to be in the time series. There should be one record for every hour between the minimum and maximum datetimes in our dataset."
   ],
   "metadata": {}
  },
  {
   "cell_type": "code",
   "execution_count": 6,
   "source": [
    "min_time = min(demand['timeStamp'])\r\n",
    "min_time"
   ],
   "outputs": [
    {
     "output_type": "execute_result",
     "data": {
      "text/plain": [
       "Timestamp('2012-01-01 00:00:00')"
      ]
     },
     "metadata": {},
     "execution_count": 6
    }
   ],
   "metadata": {}
  },
  {
   "cell_type": "code",
   "execution_count": 9,
   "source": [
    "max_time = max(demand['timeStamp'])\r\n",
    "max_time"
   ],
   "outputs": [
    {
     "output_type": "execute_result",
     "data": {
      "text/plain": [
       "Timestamp('2017-08-12 06:00:00')"
      ]
     },
     "metadata": {},
     "execution_count": 9
    }
   ],
   "metadata": {}
  },
  {
   "cell_type": "code",
   "execution_count": 10,
   "source": [
    "dt_idx = pd.date_range(min_time, max_time, freq='H')\r\n",
    "dt_idx"
   ],
   "outputs": [
    {
     "output_type": "execute_result",
     "data": {
      "text/plain": [
       "DatetimeIndex(['2012-01-01 00:00:00', '2012-01-01 01:00:00',\n",
       "               '2012-01-01 02:00:00', '2012-01-01 03:00:00',\n",
       "               '2012-01-01 04:00:00', '2012-01-01 05:00:00',\n",
       "               '2012-01-01 06:00:00', '2012-01-01 07:00:00',\n",
       "               '2012-01-01 08:00:00', '2012-01-01 09:00:00',\n",
       "               ...\n",
       "               '2017-08-11 21:00:00', '2017-08-11 22:00:00',\n",
       "               '2017-08-11 23:00:00', '2017-08-12 00:00:00',\n",
       "               '2017-08-12 01:00:00', '2017-08-12 02:00:00',\n",
       "               '2017-08-12 03:00:00', '2017-08-12 04:00:00',\n",
       "               '2017-08-12 05:00:00', '2017-08-12 06:00:00'],\n",
       "              dtype='datetime64[ns]', length=49207, freq='H')"
      ]
     },
     "metadata": {},
     "execution_count": 10
    }
   ],
   "metadata": {}
  },
  {
   "cell_type": "markdown",
   "source": [
    "Now we index the dataframe according to this datetime index to insert missing records into the time series:"
   ],
   "metadata": {}
  },
  {
   "cell_type": "code",
   "execution_count": 11,
   "source": [
    "demand.index = demand['timeStamp']\r\n",
    "demand = demand.reindex(dt_idx)"
   ],
   "outputs": [],
   "metadata": {}
  },
  {
   "cell_type": "markdown",
   "source": [
    "Inserted missing records will have NaN/NaT values for all columns:"
   ],
   "metadata": {}
  },
  {
   "cell_type": "code",
   "execution_count": 12,
   "source": [
    "demand[demand.isnull().all(axis=1)]"
   ],
   "outputs": [
    {
     "output_type": "execute_result",
     "data": {
      "text/plain": [
       "                    timeStamp  demand  precip  temp\n",
       "2016-03-13 02:00:00       NaT     NaN     NaN   NaN\n",
       "2017-03-12 02:00:00       NaT     NaN     NaN   NaN"
      ],
      "text/html": [
       "<div>\n",
       "<style scoped>\n",
       "    .dataframe tbody tr th:only-of-type {\n",
       "        vertical-align: middle;\n",
       "    }\n",
       "\n",
       "    .dataframe tbody tr th {\n",
       "        vertical-align: top;\n",
       "    }\n",
       "\n",
       "    .dataframe thead th {\n",
       "        text-align: right;\n",
       "    }\n",
       "</style>\n",
       "<table border=\"1\" class=\"dataframe\">\n",
       "  <thead>\n",
       "    <tr style=\"text-align: right;\">\n",
       "      <th></th>\n",
       "      <th>timeStamp</th>\n",
       "      <th>demand</th>\n",
       "      <th>precip</th>\n",
       "      <th>temp</th>\n",
       "    </tr>\n",
       "  </thead>\n",
       "  <tbody>\n",
       "    <tr>\n",
       "      <th>2016-03-13 02:00:00</th>\n",
       "      <td>NaT</td>\n",
       "      <td>NaN</td>\n",
       "      <td>NaN</td>\n",
       "      <td>NaN</td>\n",
       "    </tr>\n",
       "    <tr>\n",
       "      <th>2017-03-12 02:00:00</th>\n",
       "      <td>NaT</td>\n",
       "      <td>NaN</td>\n",
       "      <td>NaN</td>\n",
       "      <td>NaN</td>\n",
       "    </tr>\n",
       "  </tbody>\n",
       "</table>\n",
       "</div>"
      ]
     },
     "metadata": {},
     "execution_count": 12
    }
   ],
   "metadata": {}
  },
  {
   "cell_type": "markdown",
   "source": [
    "Now that there are no missing periods in the time series, we can start handling missing values by filling as many many as possible. Firstly, count the number of missing values in each column:"
   ],
   "metadata": {}
  },
  {
   "cell_type": "code",
   "execution_count": 13,
   "source": [
    "demand.isnull().sum()"
   ],
   "outputs": [
    {
     "output_type": "execute_result",
     "data": {
      "text/plain": [
       "timeStamp      2\n",
       "demand        83\n",
       "precip       232\n",
       "temp         188\n",
       "dtype: int64"
      ]
     },
     "metadata": {},
     "execution_count": 13
    }
   ],
   "metadata": {}
  },
  {
   "cell_type": "markdown",
   "source": [
    "Missing timeStamp can be filled from the dataframe index:"
   ],
   "metadata": {}
  },
  {
   "cell_type": "code",
   "execution_count": 14,
   "source": [
    "demand.loc[demand.isnull().all(axis=1), 'timeStamp'] = demand.loc[demand.isnull().all(axis=1)].index"
   ],
   "outputs": [],
   "metadata": {}
  },
  {
   "cell_type": "markdown",
   "source": [
    "For the other columns, we can fill many missing values by interpolating between the two closest non-missing values. Here, we use a quadratic function and set a limit of 6. This limit means that if more than 6 missing values occur consecutively, the missing values are not interpolated over and they remain missing. This is to avoid spurious interpolation between very distant time periods."
   ],
   "metadata": {}
  },
  {
   "cell_type": "code",
   "execution_count": 16,
   "source": [
    "demand = demand.interpolate(limit=6, method='ffill')"
   ],
   "outputs": [],
   "metadata": {}
  },
  {
   "cell_type": "markdown",
   "source": [
    "Fill missing precip values with common value of 0:"
   ],
   "metadata": {}
  },
  {
   "cell_type": "code",
   "execution_count": 17,
   "source": [
    "precip_mode = np.ndarray.item(stats.mode(demand['precip']).mode)\r\n",
    "demand['precip'] = demand['precip'].fillna(precip_mode)"
   ],
   "outputs": [],
   "metadata": {}
  },
  {
   "cell_type": "code",
   "execution_count": 18,
   "source": [
    "demand.isnull().sum()"
   ],
   "outputs": [
    {
     "output_type": "execute_result",
     "data": {
      "text/plain": [
       "timeStamp     0\n",
       "demand       43\n",
       "precip        0\n",
       "temp         86\n",
       "dtype: int64"
      ]
     },
     "metadata": {},
     "execution_count": 18
    }
   ],
   "metadata": {}
  },
  {
   "cell_type": "markdown",
   "source": [
    "The number of missing values has now been greatly reduced. Records containing the remaining missing values will be removed later after model features have been created."
   ],
   "metadata": {}
  },
  {
   "cell_type": "markdown",
   "source": [
    "### Explore the data"
   ],
   "metadata": {}
  },
  {
   "cell_type": "markdown",
   "source": [
    "By visualising the data, we can gain some intuition as to what kind of features could be helpful to the model."
   ],
   "metadata": {}
  },
  {
   "cell_type": "code",
   "execution_count": 19,
   "source": [
    "plt.hist(demand['demand'].dropna(), bins=100)\r\n",
    "plt.title('Demand distribution')\r\n",
    "plt.show()"
   ],
   "outputs": [
    {
     "output_type": "display_data",
     "data": {
      "text/plain": [
       "<Figure size 432x288 with 1 Axes>"
      ],
      "image/png": "[encoded data removed]"
     },
     "metadata": {
      "needs_background": "light"
     }
    }
   ],
   "metadata": {}
  },
  {
   "cell_type": "code",
   "execution_count": 20,
   "source": [
    "plt_df = demand.copy().loc[(demand['timeStamp']>='2016-01-01') & (demand['timeStamp']<'2017-01-01'), ]\r\n",
    "plt.plot(plt_df['timeStamp'], plt_df['demand'], markersize=1)\r\n",
    "plt.title('Hourly demand in 2016')\r\n",
    "plt.ylabel('demand')\r\n",
    "plt.xticks(rotation=45)\r\n",
    "plt.show()"
   ],
   "outputs": [
    {
     "output_type": "display_data",
     "data": {
      "text/plain": [
       "<Figure size 432x288 with 1 Axes>"
      ],
      "image/png": "[encoded data removed]"
     },
     "metadata": {
      "needs_background": "light"
     }
    }
   ],
   "metadata": {}
  },
  {
   "cell_type": "code",
   "execution_count": 21,
   "source": [
    "plt.hist(demand['temp'].dropna(), bins=100)\r\n",
    "plt.title('Temperature distribution')\r\n",
    "plt.show()"
   ],
   "outputs": [
    {
     "output_type": "display_data",
     "data": {
      "text/plain": [
       "<Figure size 432x288 with 1 Axes>"
      ],
      "image/png": "[encoded data removed]"
     },
     "metadata": {
      "needs_background": "light"
     }
    }
   ],
   "metadata": {}
  },
  {
   "cell_type": "code",
   "execution_count": 22,
   "source": [
    "plt.plot(demand['temp'], demand['demand'], 'ro', markersize=1)\r\n",
    "plt.title('Demand vs temperature')\r\n",
    "plt.xlabel('temp')\r\n",
    "plt.ylabel('demand')\r\n",
    "plt.show()"
   ],
   "outputs": [
    {
     "output_type": "display_data",
     "data": {
      "text/plain": [
       "<Figure size 432x288 with 1 Axes>"
      ],
      "image/png": "[encoded data removed]"
     },
     "metadata": {
      "needs_background": "light"
     }
    }
   ],
   "metadata": {
    "scrolled": true
   }
  },
  {
   "cell_type": "markdown",
   "source": [
    "The autocorrelation plot below shows the extent to which the demand variable correlates with itself at different intervals (lags). This plot shows that demand is highly autocorrelated over the closest 6 hour period."
   ],
   "metadata": {}
  },
  {
   "cell_type": "code",
   "execution_count": 23,
   "source": [
    "autocorrelation_plot(demand['demand'].dropna())\r\n",
    "plt.xlim(0,24)\r\n",
    "plt.title('Auto-correlation of hourly demand over a 24 hour period')\r\n",
    "plt.show()"
   ],
   "outputs": [
    {
     "output_type": "display_data",
     "data": {
      "text/plain": [
       "<Figure size 432x288 with 1 Axes>"
      ],
      "image/png": "[encoded data removed]"
     },
     "metadata": {
      "needs_background": "light"
     }
    }
   ],
   "metadata": {}
  },
  {
   "cell_type": "markdown",
   "source": [
    "### Compute features for forecasting models"
   ],
   "metadata": {}
  },
  {
   "cell_type": "markdown",
   "source": [
    "After exploring the data, it is clear that the energy demand follows seasonal trends, with daily, weekly and annual periodicity. We will create features that encode this information. First, we compute time driven features based on timeStamp. Note for dayofweek, Monday=0 and Sunday=6."
   ],
   "metadata": {}
  },
  {
   "cell_type": "code",
   "execution_count": 24,
   "source": [
    "demand_features = demand.copy()"
   ],
   "outputs": [],
   "metadata": {}
  },
  {
   "cell_type": "code",
   "execution_count": 25,
   "source": [
    "demand_features['hour'] = demand_features.timeStamp.dt.hour\r\n",
    "demand_features['month'] = demand_features.timeStamp.dt.month-1\r\n",
    "demand_features['dayofweek'] = demand_features.timeStamp.dt.dayofweek"
   ],
   "outputs": [],
   "metadata": {}
  },
  {
   "cell_type": "markdown",
   "source": [
    "Compute lagged demand features"
   ],
   "metadata": {
    "collapsed": true
   }
  },
  {
   "cell_type": "code",
   "execution_count": 26,
   "source": [
    "def generate_lagged_features(df, var, max_lag):\r\n",
    "    for t in range(1, max_lag+1):\r\n",
    "        df[var+'_lag'+str(t)] = df[var].shift(t, freq='1H')"
   ],
   "outputs": [],
   "metadata": {}
  },
  {
   "cell_type": "code",
   "execution_count": 27,
   "source": [
    "generate_lagged_features(demand_features, 'temp', 6)\r\n",
    "generate_lagged_features(demand_features, 'demand', 6)"
   ],
   "outputs": [],
   "metadata": {}
  },
  {
   "cell_type": "code",
   "execution_count": 28,
   "source": [
    "demand_features.head()"
   ],
   "outputs": [
    {
     "output_type": "execute_result",
     "data": {
      "text/plain": [
       "                              timeStamp  demand  precip   temp  hour  month  \\\n",
       "2012-01-01 00:00:00 2012-01-01 00:00:00  4937.5     0.0  46.13     0      0   \n",
       "2012-01-01 01:00:00 2012-01-01 01:00:00  4752.1     0.0  45.89     1      0   \n",
       "2012-01-01 02:00:00 2012-01-01 02:00:00  4542.6     0.0  45.04     2      0   \n",
       "2012-01-01 03:00:00 2012-01-01 03:00:00  4357.7     0.0  45.03     3      0   \n",
       "2012-01-01 04:00:00 2012-01-01 04:00:00  4275.5     0.0  42.61     4      0   \n",
       "\n",
       "                     dayofweek  temp_lag1  temp_lag2  temp_lag3  temp_lag4  \\\n",
       "2012-01-01 00:00:00          6        NaN        NaN        NaN        NaN   \n",
       "2012-01-01 01:00:00          6      46.13        NaN        NaN        NaN   \n",
       "2012-01-01 02:00:00          6      45.89      46.13        NaN        NaN   \n",
       "2012-01-01 03:00:00          6      45.04      45.89      46.13        NaN   \n",
       "2012-01-01 04:00:00          6      45.03      45.04      45.89      46.13   \n",
       "\n",
       "                     temp_lag5  temp_lag6  demand_lag1  demand_lag2  \\\n",
       "2012-01-01 00:00:00        NaN        NaN          NaN          NaN   \n",
       "2012-01-01 01:00:00        NaN        NaN       4937.5          NaN   \n",
       "2012-01-01 02:00:00        NaN        NaN       4752.1       4937.5   \n",
       "2012-01-01 03:00:00        NaN        NaN       4542.6       4752.1   \n",
       "2012-01-01 04:00:00        NaN        NaN       4357.7       4542.6   \n",
       "\n",
       "                     demand_lag3  demand_lag4  demand_lag5  demand_lag6  \n",
       "2012-01-01 00:00:00          NaN          NaN          NaN          NaN  \n",
       "2012-01-01 01:00:00          NaN          NaN          NaN          NaN  \n",
       "2012-01-01 02:00:00          NaN          NaN          NaN          NaN  \n",
       "2012-01-01 03:00:00       4937.5          NaN          NaN          NaN  \n",
       "2012-01-01 04:00:00       4752.1       4937.5          NaN          NaN  "
      ],
      "text/html": [
       "<div>\n",
       "<style scoped>\n",
       "    .dataframe tbody tr th:only-of-type {\n",
       "        vertical-align: middle;\n",
       "    }\n",
       "\n",
       "    .dataframe tbody tr th {\n",
       "        vertical-align: top;\n",
       "    }\n",
       "\n",
       "    .dataframe thead th {\n",
       "        text-align: right;\n",
       "    }\n",
       "</style>\n",
       "<table border=\"1\" class=\"dataframe\">\n",
       "  <thead>\n",
       "    <tr style=\"text-align: right;\">\n",
       "      <th></th>\n",
       "      <th>timeStamp</th>\n",
       "      <th>demand</th>\n",
       "      <th>precip</th>\n",
       "      <th>temp</th>\n",
       "      <th>hour</th>\n",
       "      <th>month</th>\n",
       "      <th>dayofweek</th>\n",
       "      <th>temp_lag1</th>\n",
       "      <th>temp_lag2</th>\n",
       "      <th>temp_lag3</th>\n",
       "      <th>temp_lag4</th>\n",
       "      <th>temp_lag5</th>\n",
       "      <th>temp_lag6</th>\n",
       "      <th>demand_lag1</th>\n",
       "      <th>demand_lag2</th>\n",
       "      <th>demand_lag3</th>\n",
       "      <th>demand_lag4</th>\n",
       "      <th>demand_lag5</th>\n",
       "      <th>demand_lag6</th>\n",
       "    </tr>\n",
       "  </thead>\n",
       "  <tbody>\n",
       "    <tr>\n",
       "      <th>2012-01-01 00:00:00</th>\n",
       "      <td>2012-01-01 00:00:00</td>\n",
       "      <td>4937.5</td>\n",
       "      <td>0.0</td>\n",
       "      <td>46.13</td>\n",
       "      <td>0</td>\n",
       "      <td>0</td>\n",
       "      <td>6</td>\n",
       "      <td>NaN</td>\n",
       "      <td>NaN</td>\n",
       "      <td>NaN</td>\n",
       "      <td>NaN</td>\n",
       "      <td>NaN</td>\n",
       "      <td>NaN</td>\n",
       "      <td>NaN</td>\n",
       "      <td>NaN</td>\n",
       "      <td>NaN</td>\n",
       "      <td>NaN</td>\n",
       "      <td>NaN</td>\n",
       "      <td>NaN</td>\n",
       "    </tr>\n",
       "    <tr>\n",
       "      <th>2012-01-01 01:00:00</th>\n",
       "      <td>2012-01-01 01:00:00</td>\n",
       "      <td>4752.1</td>\n",
       "      <td>0.0</td>\n",
       "      <td>45.89</td>\n",
       "      <td>1</td>\n",
       "      <td>0</td>\n",
       "      <td>6</td>\n",
       "      <td>46.13</td>\n",
       "      <td>NaN</td>\n",
       "      <td>NaN</td>\n",
       "      <td>NaN</td>\n",
       "      <td>NaN</td>\n",
       "      <td>NaN</td>\n",
       "      <td>4937.5</td>\n",
       "      <td>NaN</td>\n",
       "      <td>NaN</td>\n",
       "      <td>NaN</td>\n",
       "      <td>NaN</td>\n",
       "      <td>NaN</td>\n",
       "    </tr>\n",
       "    <tr>\n",
       "      <th>2012-01-01 02:00:00</th>\n",
       "      <td>2012-01-01 02:00:00</td>\n",
       "      <td>4542.6</td>\n",
       "      <td>0.0</td>\n",
       "      <td>45.04</td>\n",
       "      <td>2</td>\n",
       "      <td>0</td>\n",
       "      <td>6</td>\n",
       "      <td>45.89</td>\n",
       "      <td>46.13</td>\n",
       "      <td>NaN</td>\n",
       "      <td>NaN</td>\n",
       "      <td>NaN</td>\n",
       "      <td>NaN</td>\n",
       "      <td>4752.1</td>\n",
       "      <td>4937.5</td>\n",
       "      <td>NaN</td>\n",
       "      <td>NaN</td>\n",
       "      <td>NaN</td>\n",
       "      <td>NaN</td>\n",
       "    </tr>\n",
       "    <tr>\n",
       "      <th>2012-01-01 03:00:00</th>\n",
       "      <td>2012-01-01 03:00:00</td>\n",
       "      <td>4357.7</td>\n",
       "      <td>0.0</td>\n",
       "      <td>45.03</td>\n",
       "      <td>3</td>\n",
       "      <td>0</td>\n",
       "      <td>6</td>\n",
       "      <td>45.04</td>\n",
       "      <td>45.89</td>\n",
       "      <td>46.13</td>\n",
       "      <td>NaN</td>\n",
       "      <td>NaN</td>\n",
       "      <td>NaN</td>\n",
       "      <td>4542.6</td>\n",
       "      <td>4752.1</td>\n",
       "      <td>4937.5</td>\n",
       "      <td>NaN</td>\n",
       "      <td>NaN</td>\n",
       "      <td>NaN</td>\n",
       "    </tr>\n",
       "    <tr>\n",
       "      <th>2012-01-01 04:00:00</th>\n",
       "      <td>2012-01-01 04:00:00</td>\n",
       "      <td>4275.5</td>\n",
       "      <td>0.0</td>\n",
       "      <td>42.61</td>\n",
       "      <td>4</td>\n",
       "      <td>0</td>\n",
       "      <td>6</td>\n",
       "      <td>45.03</td>\n",
       "      <td>45.04</td>\n",
       "      <td>45.89</td>\n",
       "      <td>46.13</td>\n",
       "      <td>NaN</td>\n",
       "      <td>NaN</td>\n",
       "      <td>4357.7</td>\n",
       "      <td>4542.6</td>\n",
       "      <td>4752.1</td>\n",
       "      <td>4937.5</td>\n",
       "      <td>NaN</td>\n",
       "      <td>NaN</td>\n",
       "    </tr>\n",
       "  </tbody>\n",
       "</table>\n",
       "</div>"
      ]
     },
     "metadata": {},
     "execution_count": 28
    }
   ],
   "metadata": {}
  },
  {
   "cell_type": "markdown",
   "source": [
    "### Final data cleaning and write out training and test datasets"
   ],
   "metadata": {}
  },
  {
   "cell_type": "markdown",
   "source": [
    "Count remaining null values."
   ],
   "metadata": {}
  },
  {
   "cell_type": "code",
   "execution_count": 29,
   "source": [
    "demand_features.isnull().sum()"
   ],
   "outputs": [
    {
     "output_type": "execute_result",
     "data": {
      "text/plain": [
       "timeStamp       0\n",
       "demand         43\n",
       "precip          0\n",
       "temp           86\n",
       "hour            0\n",
       "month           0\n",
       "dayofweek       0\n",
       "temp_lag1      87\n",
       "temp_lag2      88\n",
       "temp_lag3      89\n",
       "temp_lag4      90\n",
       "temp_lag5      91\n",
       "temp_lag6      92\n",
       "demand_lag1    43\n",
       "demand_lag2    43\n",
       "demand_lag3    43\n",
       "demand_lag4    43\n",
       "demand_lag5    43\n",
       "demand_lag6    43\n",
       "dtype: int64"
      ]
     },
     "metadata": {},
     "execution_count": 29
    }
   ],
   "metadata": {}
  },
  {
   "cell_type": "markdown",
   "source": [
    "Count number of rows with any null values"
   ],
   "metadata": {}
  },
  {
   "cell_type": "code",
   "execution_count": 30,
   "source": [
    "demand_features.loc[demand_features.isnull().any(axis=1), ].shape[0]"
   ],
   "outputs": [
    {
     "output_type": "execute_result",
     "data": {
      "text/plain": [
       "153"
      ]
     },
     "metadata": {},
     "execution_count": 30
    }
   ],
   "metadata": {}
  },
  {
   "cell_type": "markdown",
   "source": [
    "This is a very small proportion of the overall dataset so can be safely dropped."
   ],
   "metadata": {}
  },
  {
   "cell_type": "code",
   "execution_count": 31,
   "source": [
    "demand_features.dropna(how='any', inplace=True)"
   ],
   "outputs": [],
   "metadata": {}
  },
  {
   "cell_type": "code",
   "execution_count": 32,
   "source": [
    "demand_features.to_csv(os.path.join(DATADIR, 'nyc_demand_processed.csv'), index=False)"
   ],
   "outputs": [],
   "metadata": {}
  },
  {
   "cell_type": "markdown",
   "source": [
    "Split data into training and test datasets. All data after 1st July 2016 is reserved for the test set."
   ],
   "metadata": {}
  },
  {
   "cell_type": "code",
   "execution_count": 33,
   "source": [
    "train, test = (demand_features.loc[demand_features['timeStamp']<'2016-07-01'], demand_features.loc[demand_features['timeStamp']>='2016-07-01'])\r\n",
    "train.to_csv(os.path.join(DATADIR, 'nyc_demand_train.csv'), float_format='%.4f', index=False)\r\n",
    "test.to_csv(os.path.join(DATADIR, 'nyc_demand_test.csv'), float_format='%.4f', index=False)"
   ],
   "outputs": [],
   "metadata": {}
  },
  {
   "cell_type": "markdown",
   "source": [
    "### Register datasets to the workspace"
   ],
   "metadata": {}
  },
  {
   "cell_type": "code",
   "execution_count": 2,
   "source": [
    "# get the workspace from config.json\r\n",
    "ws = Workspace.from_config()\r\n",
    "# get the datastore to upload our data\r\n",
    "datastore = ws.get_default_datastore()"
   ],
   "outputs": [],
   "metadata": {}
  },
  {
   "cell_type": "code",
   "execution_count": 17,
   "source": [
    "datastore.upload(src_dir='datasets', target_path='data')"
   ],
   "outputs": [
    {
     "output_type": "stream",
     "name": "stdout",
     "text": [
      "Uploading an estimated of 5 files\n",
      "Target already exists. Skipping upload for data\\nyc_demand_processed.csv\n",
      "Target already exists. Skipping upload for data\\nyc_demand_raw.csv\n",
      "Target already exists. Skipping upload for data\\nyc_demand_test.csv\n",
      "Target already exists. Skipping upload for data\\nyc_demand_train.csv\n",
      "Target already exists. Skipping upload for data\\nyc_weather_raw.csv\n",
      "Uploaded 0 files\n"
     ]
    },
    {
     "output_type": "execute_result",
     "data": {
      "text/plain": [
       "$AZUREML_DATAREFERENCE_1e17c541e809468282c455fb43b09465"
      ]
     },
     "metadata": {},
     "execution_count": 17
    }
   ],
   "metadata": {}
  },
  {
   "cell_type": "code",
   "execution_count": 3,
   "source": [
    "processed_dataset = Dataset.Tabular.from_delimited_files(datastore.path('data/nyc_demand_processed.csv'))"
   ],
   "outputs": [],
   "metadata": {}
  },
  {
   "cell_type": "code",
   "execution_count": 4,
   "source": [
    "# preview the first 3 rows of the dataset from datastore\r\n",
    "processed_dataset.take(3).to_pandas_dataframe()"
   ],
   "outputs": [
    {
     "output_type": "stream",
     "name": "stderr",
     "text": [
      "c:\\Users\\madmin\\Documents\\XDocs\\Data Science\\Github_repos\\bootcamp-bringing-ML-models-into-production-intermediary-jun-aug2021\\bootcamp\\lesson2\\.venv\\lib\\site-packages\\azureml\\dataprep\\api\\_dataframereader.py:172: UserWarning: Please install pyarrow>=0.16.0 for improved performance of to_pandas_dataframe. You can ensure the correct version is installed by running: pip install pyarrow>=0.16.0 --upgrade\n",
      "  warnings.warn('Please install pyarrow>=0.16.0 for improved performance of to_pandas_dataframe. '\n"
     ]
    },
    {
     "output_type": "execute_result",
     "data": {
      "text/plain": [
       "            timeStamp  demand  precip   temp  hour  month  dayofweek  \\\n",
       "0 2012-01-01 06:00:00  4324.9     0.0  38.78     6      0          6   \n",
       "1 2012-01-01 07:00:00  4350.0     0.0  42.74     7      0          6   \n",
       "2 2012-01-01 08:00:00  4480.9     0.0  38.90     8      0          6   \n",
       "\n",
       "   temp_lag1  temp_lag2  temp_lag3  temp_lag4  temp_lag5  temp_lag6  \\\n",
       "0      39.02      42.61      45.03      45.04      45.89      46.13   \n",
       "1      38.78      39.02      42.61      45.03      45.04      45.89   \n",
       "2      42.74      38.78      39.02      42.61      45.03      45.04   \n",
       "\n",
       "   demand_lag1  demand_lag2  demand_lag3  demand_lag4  demand_lag5  \\\n",
       "0       4274.7       4275.5       4357.7       4542.6       4752.1   \n",
       "1       4324.9       4274.7       4275.5       4357.7       4542.6   \n",
       "2       4350.0       4324.9       4274.7       4275.5       4357.7   \n",
       "\n",
       "   demand_lag6  \n",
       "0       4937.5  \n",
       "1       4752.1  \n",
       "2       4542.6  "
      ],
      "text/html": [
       "<div>\n",
       "<style scoped>\n",
       "    .dataframe tbody tr th:only-of-type {\n",
       "        vertical-align: middle;\n",
       "    }\n",
       "\n",
       "    .dataframe tbody tr th {\n",
       "        vertical-align: top;\n",
       "    }\n",
       "\n",
       "    .dataframe thead th {\n",
       "        text-align: right;\n",
       "    }\n",
       "</style>\n",
       "<table border=\"1\" class=\"dataframe\">\n",
       "  <thead>\n",
       "    <tr style=\"text-align: right;\">\n",
       "      <th></th>\n",
       "      <th>timeStamp</th>\n",
       "      <th>demand</th>\n",
       "      <th>precip</th>\n",
       "      <th>temp</th>\n",
       "      <th>hour</th>\n",
       "      <th>month</th>\n",
       "      <th>dayofweek</th>\n",
       "      <th>temp_lag1</th>\n",
       "      <th>temp_lag2</th>\n",
       "      <th>temp_lag3</th>\n",
       "      <th>temp_lag4</th>\n",
       "      <th>temp_lag5</th>\n",
       "      <th>temp_lag6</th>\n",
       "      <th>demand_lag1</th>\n",
       "      <th>demand_lag2</th>\n",
       "      <th>demand_lag3</th>\n",
       "      <th>demand_lag4</th>\n",
       "      <th>demand_lag5</th>\n",
       "      <th>demand_lag6</th>\n",
       "    </tr>\n",
       "  </thead>\n",
       "  <tbody>\n",
       "    <tr>\n",
       "      <th>0</th>\n",
       "      <td>2012-01-01 06:00:00</td>\n",
       "      <td>4324.9</td>\n",
       "      <td>0.0</td>\n",
       "      <td>38.78</td>\n",
       "      <td>6</td>\n",
       "      <td>0</td>\n",
       "      <td>6</td>\n",
       "      <td>39.02</td>\n",
       "      <td>42.61</td>\n",
       "      <td>45.03</td>\n",
       "      <td>45.04</td>\n",
       "      <td>45.89</td>\n",
       "      <td>46.13</td>\n",
       "      <td>4274.7</td>\n",
       "      <td>4275.5</td>\n",
       "      <td>4357.7</td>\n",
       "      <td>4542.6</td>\n",
       "      <td>4752.1</td>\n",
       "      <td>4937.5</td>\n",
       "    </tr>\n",
       "    <tr>\n",
       "      <th>1</th>\n",
       "      <td>2012-01-01 07:00:00</td>\n",
       "      <td>4350.0</td>\n",
       "      <td>0.0</td>\n",
       "      <td>42.74</td>\n",
       "      <td>7</td>\n",
       "      <td>0</td>\n",
       "      <td>6</td>\n",
       "      <td>38.78</td>\n",
       "      <td>39.02</td>\n",
       "      <td>42.61</td>\n",
       "      <td>45.03</td>\n",
       "      <td>45.04</td>\n",
       "      <td>45.89</td>\n",
       "      <td>4324.9</td>\n",
       "      <td>4274.7</td>\n",
       "      <td>4275.5</td>\n",
       "      <td>4357.7</td>\n",
       "      <td>4542.6</td>\n",
       "      <td>4752.1</td>\n",
       "    </tr>\n",
       "    <tr>\n",
       "      <th>2</th>\n",
       "      <td>2012-01-01 08:00:00</td>\n",
       "      <td>4480.9</td>\n",
       "      <td>0.0</td>\n",
       "      <td>38.90</td>\n",
       "      <td>8</td>\n",
       "      <td>0</td>\n",
       "      <td>6</td>\n",
       "      <td>42.74</td>\n",
       "      <td>38.78</td>\n",
       "      <td>39.02</td>\n",
       "      <td>42.61</td>\n",
       "      <td>45.03</td>\n",
       "      <td>45.04</td>\n",
       "      <td>4350.0</td>\n",
       "      <td>4324.9</td>\n",
       "      <td>4274.7</td>\n",
       "      <td>4275.5</td>\n",
       "      <td>4357.7</td>\n",
       "      <td>4542.6</td>\n",
       "    </tr>\n",
       "  </tbody>\n",
       "</table>\n",
       "</div>"
      ]
     },
     "metadata": {},
     "execution_count": 4
    }
   ],
   "metadata": {}
  },
  {
   "cell_type": "code",
   "execution_count": 5,
   "source": [
    "processed_ds = processed_dataset.register(workspace=ws, name=\"processed_nyc_demand_data\", description=\"processed New York energy demand data\")"
   ],
   "outputs": [],
   "metadata": {}
  },
  {
   "cell_type": "code",
   "execution_count": 6,
   "source": [
    "train_dataset = Dataset.Tabular.from_delimited_files(datastore.path('data/nyc_demand_train.csv'))\r\n",
    "test_dataset = Dataset.Tabular.from_delimited_files(datastore.path('data/nyc_demand_test.csv'))"
   ],
   "outputs": [],
   "metadata": {}
  },
  {
   "cell_type": "code",
   "execution_count": 7,
   "source": [
    "train_dataset.take(3).to_pandas_dataframe()"
   ],
   "outputs": [
    {
     "output_type": "stream",
     "name": "stderr",
     "text": [
      "c:\\Users\\madmin\\Documents\\XDocs\\Data Science\\Github_repos\\bootcamp-bringing-ML-models-into-production-intermediary-jun-aug2021\\bootcamp\\lesson2\\.venv\\lib\\site-packages\\azureml\\dataprep\\api\\_dataframereader.py:172: UserWarning: Please install pyarrow>=0.16.0 for improved performance of to_pandas_dataframe. You can ensure the correct version is installed by running: pip install pyarrow>=0.16.0 --upgrade\n",
      "  warnings.warn('Please install pyarrow>=0.16.0 for improved performance of to_pandas_dataframe. '\n"
     ]
    },
    {
     "output_type": "execute_result",
     "data": {
      "text/plain": [
       "            timeStamp  demand  precip   temp  hour  month  dayofweek  \\\n",
       "0 2012-01-01 06:00:00  4324.9     0.0  38.78     6      0          6   \n",
       "1 2012-01-01 07:00:00  4350.0     0.0  42.74     7      0          6   \n",
       "2 2012-01-01 08:00:00  4480.9     0.0  38.90     8      0          6   \n",
       "\n",
       "   temp_lag1  temp_lag2  temp_lag3  temp_lag4  temp_lag5  temp_lag6  \\\n",
       "0      39.02      42.61      45.03      45.04      45.89      46.13   \n",
       "1      38.78      39.02      42.61      45.03      45.04      45.89   \n",
       "2      42.74      38.78      39.02      42.61      45.03      45.04   \n",
       "\n",
       "   demand_lag1  demand_lag2  demand_lag3  demand_lag4  demand_lag5  \\\n",
       "0       4274.7       4275.5       4357.7       4542.6       4752.1   \n",
       "1       4324.9       4274.7       4275.5       4357.7       4542.6   \n",
       "2       4350.0       4324.9       4274.7       4275.5       4357.7   \n",
       "\n",
       "   demand_lag6  \n",
       "0       4937.5  \n",
       "1       4752.1  \n",
       "2       4542.6  "
      ],
      "text/html": [
       "<div>\n",
       "<style scoped>\n",
       "    .dataframe tbody tr th:only-of-type {\n",
       "        vertical-align: middle;\n",
       "    }\n",
       "\n",
       "    .dataframe tbody tr th {\n",
       "        vertical-align: top;\n",
       "    }\n",
       "\n",
       "    .dataframe thead th {\n",
       "        text-align: right;\n",
       "    }\n",
       "</style>\n",
       "<table border=\"1\" class=\"dataframe\">\n",
       "  <thead>\n",
       "    <tr style=\"text-align: right;\">\n",
       "      <th></th>\n",
       "      <th>timeStamp</th>\n",
       "      <th>demand</th>\n",
       "      <th>precip</th>\n",
       "      <th>temp</th>\n",
       "      <th>hour</th>\n",
       "      <th>month</th>\n",
       "      <th>dayofweek</th>\n",
       "      <th>temp_lag1</th>\n",
       "      <th>temp_lag2</th>\n",
       "      <th>temp_lag3</th>\n",
       "      <th>temp_lag4</th>\n",
       "      <th>temp_lag5</th>\n",
       "      <th>temp_lag6</th>\n",
       "      <th>demand_lag1</th>\n",
       "      <th>demand_lag2</th>\n",
       "      <th>demand_lag3</th>\n",
       "      <th>demand_lag4</th>\n",
       "      <th>demand_lag5</th>\n",
       "      <th>demand_lag6</th>\n",
       "    </tr>\n",
       "  </thead>\n",
       "  <tbody>\n",
       "    <tr>\n",
       "      <th>0</th>\n",
       "      <td>2012-01-01 06:00:00</td>\n",
       "      <td>4324.9</td>\n",
       "      <td>0.0</td>\n",
       "      <td>38.78</td>\n",
       "      <td>6</td>\n",
       "      <td>0</td>\n",
       "      <td>6</td>\n",
       "      <td>39.02</td>\n",
       "      <td>42.61</td>\n",
       "      <td>45.03</td>\n",
       "      <td>45.04</td>\n",
       "      <td>45.89</td>\n",
       "      <td>46.13</td>\n",
       "      <td>4274.7</td>\n",
       "      <td>4275.5</td>\n",
       "      <td>4357.7</td>\n",
       "      <td>4542.6</td>\n",
       "      <td>4752.1</td>\n",
       "      <td>4937.5</td>\n",
       "    </tr>\n",
       "    <tr>\n",
       "      <th>1</th>\n",
       "      <td>2012-01-01 07:00:00</td>\n",
       "      <td>4350.0</td>\n",
       "      <td>0.0</td>\n",
       "      <td>42.74</td>\n",
       "      <td>7</td>\n",
       "      <td>0</td>\n",
       "      <td>6</td>\n",
       "      <td>38.78</td>\n",
       "      <td>39.02</td>\n",
       "      <td>42.61</td>\n",
       "      <td>45.03</td>\n",
       "      <td>45.04</td>\n",
       "      <td>45.89</td>\n",
       "      <td>4324.9</td>\n",
       "      <td>4274.7</td>\n",
       "      <td>4275.5</td>\n",
       "      <td>4357.7</td>\n",
       "      <td>4542.6</td>\n",
       "      <td>4752.1</td>\n",
       "    </tr>\n",
       "    <tr>\n",
       "      <th>2</th>\n",
       "      <td>2012-01-01 08:00:00</td>\n",
       "      <td>4480.9</td>\n",
       "      <td>0.0</td>\n",
       "      <td>38.90</td>\n",
       "      <td>8</td>\n",
       "      <td>0</td>\n",
       "      <td>6</td>\n",
       "      <td>42.74</td>\n",
       "      <td>38.78</td>\n",
       "      <td>39.02</td>\n",
       "      <td>42.61</td>\n",
       "      <td>45.03</td>\n",
       "      <td>45.04</td>\n",
       "      <td>4350.0</td>\n",
       "      <td>4324.9</td>\n",
       "      <td>4274.7</td>\n",
       "      <td>4275.5</td>\n",
       "      <td>4357.7</td>\n",
       "      <td>4542.6</td>\n",
       "    </tr>\n",
       "  </tbody>\n",
       "</table>\n",
       "</div>"
      ]
     },
     "metadata": {},
     "execution_count": 7
    }
   ],
   "metadata": {}
  },
  {
   "cell_type": "code",
   "execution_count": 8,
   "source": [
    "test_dataset.take(3).to_pandas_dataframe()"
   ],
   "outputs": [
    {
     "output_type": "stream",
     "name": "stderr",
     "text": [
      "c:\\Users\\madmin\\Documents\\XDocs\\Data Science\\Github_repos\\bootcamp-bringing-ML-models-into-production-intermediary-jun-aug2021\\bootcamp\\lesson2\\.venv\\lib\\site-packages\\azureml\\dataprep\\api\\_dataframereader.py:172: UserWarning: Please install pyarrow>=0.16.0 for improved performance of to_pandas_dataframe. You can ensure the correct version is installed by running: pip install pyarrow>=0.16.0 --upgrade\n",
      "  warnings.warn('Please install pyarrow>=0.16.0 for improved performance of to_pandas_dataframe. '\n"
     ]
    },
    {
     "output_type": "execute_result",
     "data": {
      "text/plain": [
       "            timeStamp    demand  precip   temp  hour  month  dayofweek  \\\n",
       "0 2016-07-01 00:00:00  6444.750     0.0  74.63     0      6          4   \n",
       "1 2016-07-01 01:00:00  6083.075     0.0  73.77     1      6          4   \n",
       "2 2016-07-01 02:00:00  5795.317     0.0  72.32     2      6          4   \n",
       "\n",
       "   temp_lag1  temp_lag2  temp_lag3  temp_lag4  temp_lag5  temp_lag6  \\\n",
       "0      75.10      75.72      76.72      75.85      77.36      80.92   \n",
       "1      74.63      75.10      75.72      76.72      75.85      77.36   \n",
       "2      73.77      74.63      75.10      75.72      76.72      75.85   \n",
       "\n",
       "   demand_lag1  demand_lag2  demand_lag3  demand_lag4  demand_lag5  \\\n",
       "0     6912.700     7332.625     7576.558     7603.008     7788.292   \n",
       "1     6444.750     6912.700     7332.625     7576.558     7603.008   \n",
       "2     6083.075     6444.750     6912.700     7332.625     7576.558   \n",
       "\n",
       "   demand_lag6  \n",
       "0     8102.142  \n",
       "1     7788.292  \n",
       "2     7603.008  "
      ],
      "text/html": [
       "<div>\n",
       "<style scoped>\n",
       "    .dataframe tbody tr th:only-of-type {\n",
       "        vertical-align: middle;\n",
       "    }\n",
       "\n",
       "    .dataframe tbody tr th {\n",
       "        vertical-align: top;\n",
       "    }\n",
       "\n",
       "    .dataframe thead th {\n",
       "        text-align: right;\n",
       "    }\n",
       "</style>\n",
       "<table border=\"1\" class=\"dataframe\">\n",
       "  <thead>\n",
       "    <tr style=\"text-align: right;\">\n",
       "      <th></th>\n",
       "      <th>timeStamp</th>\n",
       "      <th>demand</th>\n",
       "      <th>precip</th>\n",
       "      <th>temp</th>\n",
       "      <th>hour</th>\n",
       "      <th>month</th>\n",
       "      <th>dayofweek</th>\n",
       "      <th>temp_lag1</th>\n",
       "      <th>temp_lag2</th>\n",
       "      <th>temp_lag3</th>\n",
       "      <th>temp_lag4</th>\n",
       "      <th>temp_lag5</th>\n",
       "      <th>temp_lag6</th>\n",
       "      <th>demand_lag1</th>\n",
       "      <th>demand_lag2</th>\n",
       "      <th>demand_lag3</th>\n",
       "      <th>demand_lag4</th>\n",
       "      <th>demand_lag5</th>\n",
       "      <th>demand_lag6</th>\n",
       "    </tr>\n",
       "  </thead>\n",
       "  <tbody>\n",
       "    <tr>\n",
       "      <th>0</th>\n",
       "      <td>2016-07-01 00:00:00</td>\n",
       "      <td>6444.750</td>\n",
       "      <td>0.0</td>\n",
       "      <td>74.63</td>\n",
       "      <td>0</td>\n",
       "      <td>6</td>\n",
       "      <td>4</td>\n",
       "      <td>75.10</td>\n",
       "      <td>75.72</td>\n",
       "      <td>76.72</td>\n",
       "      <td>75.85</td>\n",
       "      <td>77.36</td>\n",
       "      <td>80.92</td>\n",
       "      <td>6912.700</td>\n",
       "      <td>7332.625</td>\n",
       "      <td>7576.558</td>\n",
       "      <td>7603.008</td>\n",
       "      <td>7788.292</td>\n",
       "      <td>8102.142</td>\n",
       "    </tr>\n",
       "    <tr>\n",
       "      <th>1</th>\n",
       "      <td>2016-07-01 01:00:00</td>\n",
       "      <td>6083.075</td>\n",
       "      <td>0.0</td>\n",
       "      <td>73.77</td>\n",
       "      <td>1</td>\n",
       "      <td>6</td>\n",
       "      <td>4</td>\n",
       "      <td>74.63</td>\n",
       "      <td>75.10</td>\n",
       "      <td>75.72</td>\n",
       "      <td>76.72</td>\n",
       "      <td>75.85</td>\n",
       "      <td>77.36</td>\n",
       "      <td>6444.750</td>\n",
       "      <td>6912.700</td>\n",
       "      <td>7332.625</td>\n",
       "      <td>7576.558</td>\n",
       "      <td>7603.008</td>\n",
       "      <td>7788.292</td>\n",
       "    </tr>\n",
       "    <tr>\n",
       "      <th>2</th>\n",
       "      <td>2016-07-01 02:00:00</td>\n",
       "      <td>5795.317</td>\n",
       "      <td>0.0</td>\n",
       "      <td>72.32</td>\n",
       "      <td>2</td>\n",
       "      <td>6</td>\n",
       "      <td>4</td>\n",
       "      <td>73.77</td>\n",
       "      <td>74.63</td>\n",
       "      <td>75.10</td>\n",
       "      <td>75.72</td>\n",
       "      <td>76.72</td>\n",
       "      <td>75.85</td>\n",
       "      <td>6083.075</td>\n",
       "      <td>6444.750</td>\n",
       "      <td>6912.700</td>\n",
       "      <td>7332.625</td>\n",
       "      <td>7576.558</td>\n",
       "      <td>7603.008</td>\n",
       "    </tr>\n",
       "  </tbody>\n",
       "</table>\n",
       "</div>"
      ]
     },
     "metadata": {},
     "execution_count": 8
    }
   ],
   "metadata": {}
  },
  {
   "cell_type": "code",
   "execution_count": 9,
   "source": [
    "train_ds = train_dataset.register(workspace=ws, name=\"train_nyc_demand_data\", description=\"processed New York energy demand data for training\")\r\n",
    "test_ds = test_dataset.register(workspace=ws, name=\"test_nyc_demand_data\", description=\"processed New York energy demand data for testing\")"
   ],
   "outputs": [],
   "metadata": {}
  },
  {
   "cell_type": "code",
   "execution_count": null,
   "source": [],
   "outputs": [],
   "metadata": {}
  }
 ],
 "metadata": {
  "interpreter": {
   "hash": "f1ad0b564f481ac20856023b17eed6887e659bb9de483c83dfe0d966d3161330"
  },
  "kernelspec": {
   "name": "python3",
   "display_name": "Python 3.9.5 64-bit ('.venv': venv)"
  },
  "language_info": {
   "codemirror_mode": {
    "name": "ipython",
    "version": 3
   },
   "file_extension": ".py",
   "mimetype": "text/x-python",
   "name": "python",
   "nbconvert_exporter": "python",
   "pygments_lexer": "ipython3",
   "version": "3.9.5"
  }
 },
 "nbformat": 4,
 "nbformat_minor": 2
}