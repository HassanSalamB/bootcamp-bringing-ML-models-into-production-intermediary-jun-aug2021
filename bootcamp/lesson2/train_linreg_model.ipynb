{
 "cells": [
  {
   "cell_type": "markdown",
   "source": [
    "MIT License\n",
    "\n",
    "Copyright (c) Microsoft Corporation. All rights reserved.\n",
    "\n",
    "This notebook is adapted from Francesca Lazzeri Energy Demand Forecast Workbench workshop.\n",
    "\n",
    "Copyright (c) 2021 PyLadies Amsterdam, Alyona Galyeva"
   ],
   "metadata": {}
  },
  {
   "cell_type": "markdown",
   "source": [
    "# Linear regression with recursive feature elimination"
   ],
   "metadata": {}
  },
  {
   "cell_type": "code",
   "execution_count": 2,
   "source": [
    "%matplotlib inline\r\n",
    "import os\r\n",
    "import pickle\r\n",
    "import matplotlib\r\n",
    "import matplotlib.pyplot as plt\r\n",
    "import matplotlib.gridspec as gridspec\r\n",
    "import pandas as pd\r\n",
    "import numpy as np\r\n",
    "from azureml.core import Workspace, Dataset\r\n",
    "from azureml.core.experiment import Experiment\r\n",
    "from sklearn.compose import ColumnTransformer\r\n",
    "from sklearn.linear_model import LinearRegression\r\n",
    "from sklearn.feature_selection import RFECV\r\n",
    "from sklearn.metrics import mean_squared_error\r\n",
    "from sklearn.model_selection import TimeSeriesSplit\r\n",
    "from sklearn.pipeline import Pipeline\r\n",
    "from sklearn.preprocessing import OneHotEncoder"
   ],
   "outputs": [],
   "metadata": {}
  },
  {
   "cell_type": "markdown",
   "source": [
    "This notebook shows how to train a linear regression model to create a forecast of future energy demand. In particular, the model will be trained to predict energy demand in period $t_{+1}$, one hour ahead of the current time period $t$. This is known as 'one-step' time series forecasting because we are predicting one period into the future."
   ],
   "metadata": {}
  },
  {
   "cell_type": "code",
   "execution_count": 3,
   "source": [
    "WORKDIR = os.getcwd()\r\n",
    "MODEL_NAME = \"linear_regression\""
   ],
   "outputs": [],
   "metadata": {}
  },
  {
   "cell_type": "code",
   "execution_count": 4,
   "source": [
    "ws = Workspace.from_config()"
   ],
   "outputs": [],
   "metadata": {}
  },
  {
   "cell_type": "code",
   "execution_count": 5,
   "source": [
    "train_ds = Dataset.get_by_name(ws, name=\"train_nyc_demand_data\")\r\n",
    "print(train_ds.name, train_ds.version)"
   ],
   "outputs": [
    {
     "output_type": "stream",
     "name": "stdout",
     "text": [
      "train_nyc_demand_data 1\n"
     ]
    }
   ],
   "metadata": {}
  },
  {
   "cell_type": "code",
   "execution_count": 6,
   "source": [
    "train = train_ds.to_pandas_dataframe()\r\n",
    "train.head()"
   ],
   "outputs": [
    {
     "output_type": "stream",
     "name": "stderr",
     "text": [
      "c:\\Users\\madmin\\Documents\\XDocs\\Data Science\\Github_repos\\bootcamp-bringing-ML-models-into-production-intermediary-jun-aug2021\\bootcamp\\lesson2\\.venv\\lib\\site-packages\\azureml\\dataprep\\api\\_dataframereader.py:172: UserWarning: Please install pyarrow>=0.16.0 for improved performance of to_pandas_dataframe. You can ensure the correct version is installed by running: pip install pyarrow>=0.16.0 --upgrade\n",
      "  warnings.warn('Please install pyarrow>=0.16.0 for improved performance of to_pandas_dataframe. '\n"
     ]
    },
    {
     "output_type": "execute_result",
     "data": {
      "text/plain": [
       "            timeStamp  demand  precip   temp  hour  month  dayofweek  \\\n",
       "0 2012-01-01 06:00:00  4324.9     0.0  38.78     6      0          6   \n",
       "1 2012-01-01 07:00:00  4350.0     0.0  42.74     7      0          6   \n",
       "2 2012-01-01 08:00:00  4480.9     0.0  38.90     8      0          6   \n",
       "3 2012-01-01 09:00:00  4664.2     0.0  44.67     9      0          6   \n",
       "4 2012-01-01 10:00:00  4847.5     0.0  47.43    10      0          6   \n",
       "\n",
       "   temp_lag1  temp_lag2  temp_lag3  temp_lag4  temp_lag5  temp_lag6  \\\n",
       "0      39.02      42.61      45.03      45.04      45.89      46.13   \n",
       "1      38.78      39.02      42.61      45.03      45.04      45.89   \n",
       "2      42.74      38.78      39.02      42.61      45.03      45.04   \n",
       "3      38.90      42.74      38.78      39.02      42.61      45.03   \n",
       "4      44.67      38.90      42.74      38.78      39.02      42.61   \n",
       "\n",
       "   demand_lag1  demand_lag2  demand_lag3  demand_lag4  demand_lag5  \\\n",
       "0       4274.7       4275.5       4357.7       4542.6       4752.1   \n",
       "1       4324.9       4274.7       4275.5       4357.7       4542.6   \n",
       "2       4350.0       4324.9       4274.7       4275.5       4357.7   \n",
       "3       4480.9       4350.0       4324.9       4274.7       4275.5   \n",
       "4       4664.2       4480.9       4350.0       4324.9       4274.7   \n",
       "\n",
       "   demand_lag6  \n",
       "0       4937.5  \n",
       "1       4752.1  \n",
       "2       4542.6  \n",
       "3       4357.7  \n",
       "4       4275.5  "
      ],
      "text/html": [
       "<div>\n",
       "<style scoped>\n",
       "    .dataframe tbody tr th:only-of-type {\n",
       "        vertical-align: middle;\n",
       "    }\n",
       "\n",
       "    .dataframe tbody tr th {\n",
       "        vertical-align: top;\n",
       "    }\n",
       "\n",
       "    .dataframe thead th {\n",
       "        text-align: right;\n",
       "    }\n",
       "</style>\n",
       "<table border=\"1\" class=\"dataframe\">\n",
       "  <thead>\n",
       "    <tr style=\"text-align: right;\">\n",
       "      <th></th>\n",
       "      <th>timeStamp</th>\n",
       "      <th>demand</th>\n",
       "      <th>precip</th>\n",
       "      <th>temp</th>\n",
       "      <th>hour</th>\n",
       "      <th>month</th>\n",
       "      <th>dayofweek</th>\n",
       "      <th>temp_lag1</th>\n",
       "      <th>temp_lag2</th>\n",
       "      <th>temp_lag3</th>\n",
       "      <th>temp_lag4</th>\n",
       "      <th>temp_lag5</th>\n",
       "      <th>temp_lag6</th>\n",
       "      <th>demand_lag1</th>\n",
       "      <th>demand_lag2</th>\n",
       "      <th>demand_lag3</th>\n",
       "      <th>demand_lag4</th>\n",
       "      <th>demand_lag5</th>\n",
       "      <th>demand_lag6</th>\n",
       "    </tr>\n",
       "  </thead>\n",
       "  <tbody>\n",
       "    <tr>\n",
       "      <th>0</th>\n",
       "      <td>2012-01-01 06:00:00</td>\n",
       "      <td>4324.9</td>\n",
       "      <td>0.0</td>\n",
       "      <td>38.78</td>\n",
       "      <td>6</td>\n",
       "      <td>0</td>\n",
       "      <td>6</td>\n",
       "      <td>39.02</td>\n",
       "      <td>42.61</td>\n",
       "      <td>45.03</td>\n",
       "      <td>45.04</td>\n",
       "      <td>45.89</td>\n",
       "      <td>46.13</td>\n",
       "      <td>4274.7</td>\n",
       "      <td>4275.5</td>\n",
       "      <td>4357.7</td>\n",
       "      <td>4542.6</td>\n",
       "      <td>4752.1</td>\n",
       "      <td>4937.5</td>\n",
       "    </tr>\n",
       "    <tr>\n",
       "      <th>1</th>\n",
       "      <td>2012-01-01 07:00:00</td>\n",
       "      <td>4350.0</td>\n",
       "      <td>0.0</td>\n",
       "      <td>42.74</td>\n",
       "      <td>7</td>\n",
       "      <td>0</td>\n",
       "      <td>6</td>\n",
       "      <td>38.78</td>\n",
       "      <td>39.02</td>\n",
       "      <td>42.61</td>\n",
       "      <td>45.03</td>\n",
       "      <td>45.04</td>\n",
       "      <td>45.89</td>\n",
       "      <td>4324.9</td>\n",
       "      <td>4274.7</td>\n",
       "      <td>4275.5</td>\n",
       "      <td>4357.7</td>\n",
       "      <td>4542.6</td>\n",
       "      <td>4752.1</td>\n",
       "    </tr>\n",
       "    <tr>\n",
       "      <th>2</th>\n",
       "      <td>2012-01-01 08:00:00</td>\n",
       "      <td>4480.9</td>\n",
       "      <td>0.0</td>\n",
       "      <td>38.90</td>\n",
       "      <td>8</td>\n",
       "      <td>0</td>\n",
       "      <td>6</td>\n",
       "      <td>42.74</td>\n",
       "      <td>38.78</td>\n",
       "      <td>39.02</td>\n",
       "      <td>42.61</td>\n",
       "      <td>45.03</td>\n",
       "      <td>45.04</td>\n",
       "      <td>4350.0</td>\n",
       "      <td>4324.9</td>\n",
       "      <td>4274.7</td>\n",
       "      <td>4275.5</td>\n",
       "      <td>4357.7</td>\n",
       "      <td>4542.6</td>\n",
       "    </tr>\n",
       "    <tr>\n",
       "      <th>3</th>\n",
       "      <td>2012-01-01 09:00:00</td>\n",
       "      <td>4664.2</td>\n",
       "      <td>0.0</td>\n",
       "      <td>44.67</td>\n",
       "      <td>9</td>\n",
       "      <td>0</td>\n",
       "      <td>6</td>\n",
       "      <td>38.90</td>\n",
       "      <td>42.74</td>\n",
       "      <td>38.78</td>\n",
       "      <td>39.02</td>\n",
       "      <td>42.61</td>\n",
       "      <td>45.03</td>\n",
       "      <td>4480.9</td>\n",
       "      <td>4350.0</td>\n",
       "      <td>4324.9</td>\n",
       "      <td>4274.7</td>\n",
       "      <td>4275.5</td>\n",
       "      <td>4357.7</td>\n",
       "    </tr>\n",
       "    <tr>\n",
       "      <th>4</th>\n",
       "      <td>2012-01-01 10:00:00</td>\n",
       "      <td>4847.5</td>\n",
       "      <td>0.0</td>\n",
       "      <td>47.43</td>\n",
       "      <td>10</td>\n",
       "      <td>0</td>\n",
       "      <td>6</td>\n",
       "      <td>44.67</td>\n",
       "      <td>38.90</td>\n",
       "      <td>42.74</td>\n",
       "      <td>38.78</td>\n",
       "      <td>39.02</td>\n",
       "      <td>42.61</td>\n",
       "      <td>4664.2</td>\n",
       "      <td>4480.9</td>\n",
       "      <td>4350.0</td>\n",
       "      <td>4324.9</td>\n",
       "      <td>4274.7</td>\n",
       "      <td>4275.5</td>\n",
       "    </tr>\n",
       "  </tbody>\n",
       "</table>\n",
       "</div>"
      ]
     },
     "metadata": {},
     "execution_count": 6
    }
   ],
   "metadata": {}
  },
  {
   "cell_type": "markdown",
   "source": [
    "Create design matrix - each column in this matrix represents a model feature and each row is a training example. We remove the *demand* and *timeStamp* variables as they are not model features."
   ],
   "metadata": {}
  },
  {
   "cell_type": "code",
   "execution_count": 7,
   "source": [
    "X = train.drop(['demand', 'timeStamp'], axis=1)"
   ],
   "outputs": [],
   "metadata": {}
  },
  {
   "cell_type": "code",
   "execution_count": 10,
   "source": [
    "lr_experiment = Experiment(ws, name=\"LR\")\r\n",
    "run = lr_experiment.start_logging(snapshot_directory=None)\r\n",
    "\r\n",
    "run.log(\"dataset name\", train_ds.name)\r\n",
    "run.log(\"dataset version\", train_ds.version)"
   ],
   "outputs": [],
   "metadata": {}
  },
  {
   "cell_type": "markdown",
   "source": [
    "### Create predictive model pipeline"
   ],
   "metadata": {}
  },
  {
   "cell_type": "markdown",
   "source": [
    "Here we use sklearn's Pipeline functionality to create a predictive model pipeline. For this model, the pipeline implements the following steps:\n",
    "- **one-hot encode categorical variables** - this creates a feature for each unique value of a categorical feature. For example, the feature *dayofweek* has 7 unique values. This feature is split into 7 individual features dayofweek0, dayofweek1, ... , dayofweek6. The value of these features is 1 if the timeStamp corresponds to that day of the week, otherwise it is 0.\n",
    "- **recursive feature elimination with cross validation (RFECV)** - it is often the case that some features add little predictive power to a model and may even make the model accuracy worse. Recursive feature elimination tests the model accuracy on increasingly smaller subsets of the features to identify the subset which produces the most accurate model. Cross validation is used to test each subset on multiple folds of the input data. The best model is that which achieves the lowest mean squared error averaged across the cross validation folds.\n",
    "- **train final model** - the best model found in after the feature elimination process is used to train the final estimator on the whole dataset.\n",
    "\n",
    "Identify indices for categorical columns for one hot encoding and create the OneHotEncoder:"
   ],
   "metadata": {}
  },
  {
   "cell_type": "code",
   "execution_count": 14,
   "source": [
    "cat_cols = ['hour', 'month', 'dayofweek']\r\n",
    "cat_cols_idx = [X.columns.get_loc(c) for c in X.columns if c in cat_cols]\r\n",
    "run.log_list(\"cat_cols\", cat_cols)"
   ],
   "outputs": [],
   "metadata": {}
  },
  {
   "cell_type": "code",
   "execution_count": 16,
   "source": [
    "preprocessor = ColumnTransformer([('encoder', OneHotEncoder(sparse=False), cat_cols_idx)], remainder='passthrough')"
   ],
   "outputs": [],
   "metadata": {}
  },
  {
   "cell_type": "markdown",
   "source": [
    "Create the linear regression model object:"
   ],
   "metadata": {}
  },
  {
   "cell_type": "code",
   "execution_count": 18,
   "source": [
    "regr = LinearRegression(fit_intercept=True)"
   ],
   "outputs": [],
   "metadata": {}
  },
  {
   "cell_type": "markdown",
   "source": [
    "For hyperparameter tuning and feature selection, cross validation will be performed using the training set. With time series forecasting, it is important that test data comes from a later time period than the training data. This also applies to each fold in cross validation. Therefore a time series split is used to create three folds for cross validation as illustrated below. Each time series plot represents a separate training/test split, with the training set coloured in blue and the test set coloured in red. Note that, even in the first split, the training data covers at least a full year so that the model can learn the annual seasonality of the demand."
   ],
   "metadata": {}
  },
  {
   "cell_type": "code",
   "execution_count": 19,
   "source": [
    "tscv = TimeSeriesSplit(n_splits=3)"
   ],
   "outputs": [],
   "metadata": {}
  },
  {
   "cell_type": "code",
   "execution_count": 20,
   "source": [
    "demand_ts = train[['timeStamp', 'demand']].copy()\r\n",
    "demand_ts.reset_index(drop=True, inplace=True)\r\n",
    "\r\n",
    "for split_num, split_idx  in enumerate(tscv.split(demand_ts)):\r\n",
    "    split_num = str(split_num)\r\n",
    "    train_idx = split_idx[0]\r\n",
    "    test_idx = split_idx[1]\r\n",
    "    demand_ts['fold' + split_num] = \"not used\"\r\n",
    "    demand_ts.loc[train_idx, 'fold' + split_num] = \"train\"\r\n",
    "    demand_ts.loc[test_idx, 'fold' + split_num] = \"test\"\r\n",
    "\r\n",
    "gs = gridspec.GridSpec(3,1)\r\n",
    "fig = plt.figure(figsize=(15, 10), tight_layout=True)\r\n",
    "\r\n",
    "ax = fig.add_subplot(gs[0])\r\n",
    "ax.plot(demand_ts.loc[demand_ts['fold0']==\"train\", \"timeStamp\"], demand_ts.loc[demand_ts['fold0']==\"train\", \"demand\"], color='b')\r\n",
    "ax.plot(demand_ts.loc[demand_ts['fold0']==\"test\", \"timeStamp\"], demand_ts.loc[demand_ts['fold0']==\"test\", \"demand\"], 'r')\r\n",
    "ax.plot(demand_ts.loc[demand_ts['fold0']==\"not used\", \"timeStamp\"], demand_ts.loc[demand_ts['fold0']==\"not used\", \"demand\"], 'w')\r\n",
    "\r\n",
    "ax = fig.add_subplot(gs[1], sharex=ax)\r\n",
    "plt.plot(demand_ts.loc[demand_ts['fold1']==\"train\", \"timeStamp\"], demand_ts.loc[demand_ts['fold1']==\"train\", \"demand\"], 'b')\r\n",
    "plt.plot(demand_ts.loc[demand_ts['fold1']==\"test\", \"timeStamp\"], demand_ts.loc[demand_ts['fold1']==\"test\", \"demand\"], 'r')\r\n",
    "plt.plot(demand_ts.loc[demand_ts['fold1']==\"not used\", \"timeStamp\"], demand_ts.loc[demand_ts['fold1']==\"not used\", \"demand\"], 'w')\r\n",
    "\r\n",
    "ax = fig.add_subplot(gs[2], sharex=ax)\r\n",
    "plt.plot(demand_ts.loc[demand_ts['fold2']==\"train\", \"timeStamp\"], demand_ts.loc[demand_ts['fold2']==\"train\", \"demand\"], 'b')\r\n",
    "plt.plot(demand_ts.loc[demand_ts['fold2']==\"test\", \"timeStamp\"], demand_ts.loc[demand_ts['fold2']==\"test\", \"demand\"], 'r')\r\n",
    "plt.plot(demand_ts.loc[demand_ts['fold2']==\"not used\", \"timeStamp\"], demand_ts.loc[demand_ts['fold2']==\"not used\", \"demand\"], 'w')\r\n",
    "plt.show()"
   ],
   "outputs": [
    {
     "output_type": "display_data",
     "data": {
      "text/plain": [
       "<Figure size 1080x720 with 3 Axes>"
      ],
      "image/png": "[encoded data removed]"
     },
     "metadata": {
      "needs_background": "light"
     }
    }
   ],
   "metadata": {}
  },
  {
   "cell_type": "markdown",
   "source": [
    "Create the RFECV object. Note the metric for evaluating the model on each fold is the negative mean squared error. The best model is that which maximises this metric."
   ],
   "metadata": {}
  },
  {
   "cell_type": "code",
   "execution_count": 21,
   "source": [
    "regr_cv = RFECV(estimator=regr,\r\n",
    "             cv=tscv,\r\n",
    "             scoring='neg_mean_squared_error',\r\n",
    "             verbose=2,\r\n",
    "             n_jobs=-1)"
   ],
   "outputs": [],
   "metadata": {}
  },
  {
   "cell_type": "markdown",
   "source": [
    "Create the model pipeline object."
   ],
   "metadata": {}
  },
  {
   "cell_type": "code",
   "execution_count": 22,
   "source": [
    "regr_pipe = Pipeline([('preprocessor', preprocessor), ('rfecv', regr_cv)])"
   ],
   "outputs": [],
   "metadata": {}
  },
  {
   "cell_type": "markdown",
   "source": [
    "Train the model pipeline. This should only take a few seconds."
   ],
   "metadata": {}
  },
  {
   "cell_type": "code",
   "execution_count": 23,
   "source": [
    "regr_pipe.fit(X, y=train['demand'])"
   ],
   "outputs": [
    {
     "output_type": "stream",
     "name": "stdout",
     "text": [
      "Fitting estimator with 57 features.\n",
      "Fitting estimator with 56 features.\n",
      "Fitting estimator with 55 features.\n"
     ]
    },
    {
     "output_type": "execute_result",
     "data": {
      "text/plain": [
       "Pipeline(steps=[('preprocessor',\n",
       "                 ColumnTransformer(remainder='passthrough',\n",
       "                                   transformers=[('encoder',\n",
       "                                                  OneHotEncoder(sparse=False),\n",
       "                                                  [2, 3, 4])])),\n",
       "                ('rfecv',\n",
       "                 RFECV(cv=TimeSeriesSplit(gap=0, max_train_size=None, n_splits=3, test_size=None),\n",
       "                       estimator=LinearRegression(), n_jobs=-1,\n",
       "                       scoring='neg_mean_squared_error', verbose=2))])"
      ]
     },
     "metadata": {},
     "execution_count": 23
    }
   ],
   "metadata": {}
  },
  {
   "cell_type": "code",
   "execution_count": 24,
   "source": [
    "run.log(\"pipeline steps\", regr_pipe.named_steps)"
   ],
   "outputs": [
    {
     "output_type": "stream",
     "name": "stderr",
     "text": [
      "Converted key pipeline steps of value {'preprocessor': ColumnTransformer(remainder='passthrough',\n",
      "                  transformers=[('encoder', OneHotEncoder(sparse=False),\n",
      "                                 [2, 3, 4])]), 'rfecv': RFECV(cv=TimeSeriesSplit(gap=0, max_train_size=None, n_splits=3, test_size=None),\n",
      "      estimator=LinearRegression(), n_jobs=-1, scoring='neg_mean_squared_error',\n",
      "      verbose=2)} to {'preprocessor': ColumnTransformer(remainder='passthrough',\n",
      "                  transformers=[('encoder', OneHotEncoder(sparse=False),\n",
      "                                 [2, 3, 4])]), 'rfecv': RFECV(cv=TimeSeriesSplit(gap=0, max_train_size=None, n_splits=3, test_size=None),\n",
      "      estimator=LinearRegression(), n_jobs=-1, scoring='neg_mean_squared_error',\n",
      "      verbose=2)}.\n",
      "\n"
     ]
    }
   ],
   "metadata": {}
  },
  {
   "cell_type": "markdown",
   "source": [
    "Save the trained model pipeline object."
   ],
   "metadata": {}
  },
  {
   "cell_type": "code",
   "execution_count": 26,
   "source": [
    "with open(os.path.join(WORKDIR, MODEL_NAME + '.pkl'), 'wb') as f:\r\n",
    "    pickle.dump(regr_pipe, f)"
   ],
   "outputs": [],
   "metadata": {}
  },
  {
   "cell_type": "markdown",
   "source": [
    "### Explore cross validation results"
   ],
   "metadata": {}
  },
  {
   "cell_type": "markdown",
   "source": [
    "Best CV negative mean squared error:"
   ],
   "metadata": {}
  },
  {
   "cell_type": "code",
   "execution_count": 29,
   "source": [
    "run.log(\"best CV negMSE\", max(regr_pipe.named_steps['rfecv'].grid_scores_))"
   ],
   "outputs": [],
   "metadata": {}
  },
  {
   "cell_type": "markdown",
   "source": [
    "Plot the cross validation errors with each subset of features. The chart shows that most features are useful to the model. However, the error gets significantly worse when there are 44 features or less in the model."
   ],
   "metadata": {
    "collapsed": true
   }
  },
  {
   "cell_type": "code",
   "execution_count": 30,
   "source": [
    "cv_results = pd.DataFrame.from_dict({'cv_score': regr_pipe.named_steps['rfecv'].grid_scores_})\r\n",
    "cv_results['mean_squared_error'] = cv_results['cv_score']\r\n",
    "plt.figure(figsize=(15, 5))\r\n",
    "plt.plot(cv_results.index, cv_results['mean_squared_error'])\r\n",
    "plt.xlabel('number of features')\r\n",
    "plt.title('CV negative mean squared error')\r\n",
    "run.log_image(\"CV errors plot\", plot=plt)\r\n",
    "plt.show()\r\n"
   ],
   "outputs": [
    {
     "output_type": "display_data",
     "data": {
      "text/plain": [
       "<Figure size 1080x360 with 1 Axes>"
      ],
      "image/png": "[encoded data removed]"
     },
     "metadata": {
      "needs_background": "light"
     }
    }
   ],
   "metadata": {
    "scrolled": true
   }
  },
  {
   "cell_type": "markdown",
   "source": [
    "Number of features selected:"
   ],
   "metadata": {}
  },
  {
   "cell_type": "code",
   "execution_count": 31,
   "source": [
    "regr_pipe.named_steps['rfecv'].n_features_"
   ],
   "outputs": [
    {
     "output_type": "execute_result",
     "data": {
      "text/plain": [
       "54"
      ]
     },
     "metadata": {},
     "execution_count": 31
    }
   ],
   "metadata": {}
  },
  {
   "cell_type": "markdown",
   "source": [
    "Identify supported features after selection process:"
   ],
   "metadata": {}
  },
  {
   "cell_type": "code",
   "execution_count": 32,
   "source": [
    "def get_onehot_cols(X):\r\n",
    "    X_dummy_cols = list(pd.get_dummies(X.copy()[cat_cols], columns=cat_cols).columns)\r\n",
    "    other_cols = list(X.columns.drop(cat_cols))\r\n",
    "    return X_dummy_cols + other_cols\r\n",
    "\r\n",
    "supported_features = pd.DataFrame.from_dict(\r\n",
    "    {'feature':get_onehot_cols(X), \r\n",
    "     'supported':regr_pipe.named_steps['rfecv'].support_}\r\n",
    ")\r\n",
    "supported_features"
   ],
   "outputs": [
    {
     "output_type": "execute_result",
     "data": {
      "text/plain": [
       "        feature  supported\n",
       "0        hour_0       True\n",
       "1        hour_1       True\n",
       "2        hour_2       True\n",
       "3        hour_3       True\n",
       "4        hour_4       True\n",
       "5        hour_5       True\n",
       "6        hour_6       True\n",
       "7        hour_7       True\n",
       "8        hour_8       True\n",
       "9        hour_9       True\n",
       "10      hour_10       True\n",
       "11      hour_11       True\n",
       "12      hour_12       True\n",
       "13      hour_13       True\n",
       "14      hour_14       True\n",
       "15      hour_15       True\n",
       "16      hour_16       True\n",
       "17      hour_17       True\n",
       "18      hour_18       True\n",
       "19      hour_19       True\n",
       "20      hour_20       True\n",
       "21      hour_21       True\n",
       "22      hour_22       True\n",
       "23      hour_23       True\n",
       "24      month_0       True\n",
       "25      month_1       True\n",
       "26      month_2       True\n",
       "27      month_3       True\n",
       "28      month_4       True\n",
       "29      month_5       True\n",
       "30      month_6       True\n",
       "31      month_7       True\n",
       "32      month_8       True\n",
       "33      month_9       True\n",
       "34     month_10       True\n",
       "35     month_11       True\n",
       "36  dayofweek_0       True\n",
       "37  dayofweek_1       True\n",
       "38  dayofweek_2       True\n",
       "39  dayofweek_3       True\n",
       "40  dayofweek_4       True\n",
       "41  dayofweek_5       True\n",
       "42  dayofweek_6       True\n",
       "43       precip       True\n",
       "44         temp       True\n",
       "45    temp_lag1       True\n",
       "46    temp_lag2       True\n",
       "47    temp_lag3      False\n",
       "48    temp_lag4       True\n",
       "49    temp_lag5       True\n",
       "50    temp_lag6       True\n",
       "51  demand_lag1       True\n",
       "52  demand_lag2       True\n",
       "53  demand_lag3       True\n",
       "54  demand_lag4       True\n",
       "55  demand_lag5      False\n",
       "56  demand_lag6      False"
      ],
      "text/html": [
       "<div>\n",
       "<style scoped>\n",
       "    .dataframe tbody tr th:only-of-type {\n",
       "        vertical-align: middle;\n",
       "    }\n",
       "\n",
       "    .dataframe tbody tr th {\n",
       "        vertical-align: top;\n",
       "    }\n",
       "\n",
       "    .dataframe thead th {\n",
       "        text-align: right;\n",
       "    }\n",
       "</style>\n",
       "<table border=\"1\" class=\"dataframe\">\n",
       "  <thead>\n",
       "    <tr style=\"text-align: right;\">\n",
       "      <th></th>\n",
       "      <th>feature</th>\n",
       "      <th>supported</th>\n",
       "    </tr>\n",
       "  </thead>\n",
       "  <tbody>\n",
       "    <tr>\n",
       "      <th>0</th>\n",
       "      <td>hour_0</td>\n",
       "      <td>True</td>\n",
       "    </tr>\n",
       "    <tr>\n",
       "      <th>1</th>\n",
       "      <td>hour_1</td>\n",
       "      <td>True</td>\n",
       "    </tr>\n",
       "    <tr>\n",
       "      <th>2</th>\n",
       "      <td>hour_2</td>\n",
       "      <td>True</td>\n",
       "    </tr>\n",
       "    <tr>\n",
       "      <th>3</th>\n",
       "      <td>hour_3</td>\n",
       "      <td>True</td>\n",
       "    </tr>\n",
       "    <tr>\n",
       "      <th>4</th>\n",
       "      <td>hour_4</td>\n",
       "      <td>True</td>\n",
       "    </tr>\n",
       "    <tr>\n",
       "      <th>5</th>\n",
       "      <td>hour_5</td>\n",
       "      <td>True</td>\n",
       "    </tr>\n",
       "    <tr>\n",
       "      <th>6</th>\n",
       "      <td>hour_6</td>\n",
       "      <td>True</td>\n",
       "    </tr>\n",
       "    <tr>\n",
       "      <th>7</th>\n",
       "      <td>hour_7</td>\n",
       "      <td>True</td>\n",
       "    </tr>\n",
       "    <tr>\n",
       "      <th>8</th>\n",
       "      <td>hour_8</td>\n",
       "      <td>True</td>\n",
       "    </tr>\n",
       "    <tr>\n",
       "      <th>9</th>\n",
       "      <td>hour_9</td>\n",
       "      <td>True</td>\n",
       "    </tr>\n",
       "    <tr>\n",
       "      <th>10</th>\n",
       "      <td>hour_10</td>\n",
       "      <td>True</td>\n",
       "    </tr>\n",
       "    <tr>\n",
       "      <th>11</th>\n",
       "      <td>hour_11</td>\n",
       "      <td>True</td>\n",
       "    </tr>\n",
       "    <tr>\n",
       "      <th>12</th>\n",
       "      <td>hour_12</td>\n",
       "      <td>True</td>\n",
       "    </tr>\n",
       "    <tr>\n",
       "      <th>13</th>\n",
       "      <td>hour_13</td>\n",
       "      <td>True</td>\n",
       "    </tr>\n",
       "    <tr>\n",
       "      <th>14</th>\n",
       "      <td>hour_14</td>\n",
       "      <td>True</td>\n",
       "    </tr>\n",
       "    <tr>\n",
       "      <th>15</th>\n",
       "      <td>hour_15</td>\n",
       "      <td>True</td>\n",
       "    </tr>\n",
       "    <tr>\n",
       "      <th>16</th>\n",
       "      <td>hour_16</td>\n",
       "      <td>True</td>\n",
       "    </tr>\n",
       "    <tr>\n",
       "      <th>17</th>\n",
       "      <td>hour_17</td>\n",
       "      <td>True</td>\n",
       "    </tr>\n",
       "    <tr>\n",
       "      <th>18</th>\n",
       "      <td>hour_18</td>\n",
       "      <td>True</td>\n",
       "    </tr>\n",
       "    <tr>\n",
       "      <th>19</th>\n",
       "      <td>hour_19</td>\n",
       "      <td>True</td>\n",
       "    </tr>\n",
       "    <tr>\n",
       "      <th>20</th>\n",
       "      <td>hour_20</td>\n",
       "      <td>True</td>\n",
       "    </tr>\n",
       "    <tr>\n",
       "      <th>21</th>\n",
       "      <td>hour_21</td>\n",
       "      <td>True</td>\n",
       "    </tr>\n",
       "    <tr>\n",
       "      <th>22</th>\n",
       "      <td>hour_22</td>\n",
       "      <td>True</td>\n",
       "    </tr>\n",
       "    <tr>\n",
       "      <th>23</th>\n",
       "      <td>hour_23</td>\n",
       "      <td>True</td>\n",
       "    </tr>\n",
       "    <tr>\n",
       "      <th>24</th>\n",
       "      <td>month_0</td>\n",
       "      <td>True</td>\n",
       "    </tr>\n",
       "    <tr>\n",
       "      <th>25</th>\n",
       "      <td>month_1</td>\n",
       "      <td>True</td>\n",
       "    </tr>\n",
       "    <tr>\n",
       "      <th>26</th>\n",
       "      <td>month_2</td>\n",
       "      <td>True</td>\n",
       "    </tr>\n",
       "    <tr>\n",
       "      <th>27</th>\n",
       "      <td>month_3</td>\n",
       "      <td>True</td>\n",
       "    </tr>\n",
       "    <tr>\n",
       "      <th>28</th>\n",
       "      <td>month_4</td>\n",
       "      <td>True</td>\n",
       "    </tr>\n",
       "    <tr>\n",
       "      <th>29</th>\n",
       "      <td>month_5</td>\n",
       "      <td>True</td>\n",
       "    </tr>\n",
       "    <tr>\n",
       "      <th>30</th>\n",
       "      <td>month_6</td>\n",
       "      <td>True</td>\n",
       "    </tr>\n",
       "    <tr>\n",
       "      <th>31</th>\n",
       "      <td>month_7</td>\n",
       "      <td>True</td>\n",
       "    </tr>\n",
       "    <tr>\n",
       "      <th>32</th>\n",
       "      <td>month_8</td>\n",
       "      <td>True</td>\n",
       "    </tr>\n",
       "    <tr>\n",
       "      <th>33</th>\n",
       "      <td>month_9</td>\n",
       "      <td>True</td>\n",
       "    </tr>\n",
       "    <tr>\n",
       "      <th>34</th>\n",
       "      <td>month_10</td>\n",
       "      <td>True</td>\n",
       "    </tr>\n",
       "    <tr>\n",
       "      <th>35</th>\n",
       "      <td>month_11</td>\n",
       "      <td>True</td>\n",
       "    </tr>\n",
       "    <tr>\n",
       "      <th>36</th>\n",
       "      <td>dayofweek_0</td>\n",
       "      <td>True</td>\n",
       "    </tr>\n",
       "    <tr>\n",
       "      <th>37</th>\n",
       "      <td>dayofweek_1</td>\n",
       "      <td>True</td>\n",
       "    </tr>\n",
       "    <tr>\n",
       "      <th>38</th>\n",
       "      <td>dayofweek_2</td>\n",
       "      <td>True</td>\n",
       "    </tr>\n",
       "    <tr>\n",
       "      <th>39</th>\n",
       "      <td>dayofweek_3</td>\n",
       "      <td>True</td>\n",
       "    </tr>\n",
       "    <tr>\n",
       "      <th>40</th>\n",
       "      <td>dayofweek_4</td>\n",
       "      <td>True</td>\n",
       "    </tr>\n",
       "    <tr>\n",
       "      <th>41</th>\n",
       "      <td>dayofweek_5</td>\n",
       "      <td>True</td>\n",
       "    </tr>\n",
       "    <tr>\n",
       "      <th>42</th>\n",
       "      <td>dayofweek_6</td>\n",
       "      <td>True</td>\n",
       "    </tr>\n",
       "    <tr>\n",
       "      <th>43</th>\n",
       "      <td>precip</td>\n",
       "      <td>True</td>\n",
       "    </tr>\n",
       "    <tr>\n",
       "      <th>44</th>\n",
       "      <td>temp</td>\n",
       "      <td>True</td>\n",
       "    </tr>\n",
       "    <tr>\n",
       "      <th>45</th>\n",
       "      <td>temp_lag1</td>\n",
       "      <td>True</td>\n",
       "    </tr>\n",
       "    <tr>\n",
       "      <th>46</th>\n",
       "      <td>temp_lag2</td>\n",
       "      <td>True</td>\n",
       "    </tr>\n",
       "    <tr>\n",
       "      <th>47</th>\n",
       "      <td>temp_lag3</td>\n",
       "      <td>False</td>\n",
       "    </tr>\n",
       "    <tr>\n",
       "      <th>48</th>\n",
       "      <td>temp_lag4</td>\n",
       "      <td>True</td>\n",
       "    </tr>\n",
       "    <tr>\n",
       "      <th>49</th>\n",
       "      <td>temp_lag5</td>\n",
       "      <td>True</td>\n",
       "    </tr>\n",
       "    <tr>\n",
       "      <th>50</th>\n",
       "      <td>temp_lag6</td>\n",
       "      <td>True</td>\n",
       "    </tr>\n",
       "    <tr>\n",
       "      <th>51</th>\n",
       "      <td>demand_lag1</td>\n",
       "      <td>True</td>\n",
       "    </tr>\n",
       "    <tr>\n",
       "      <th>52</th>\n",
       "      <td>demand_lag2</td>\n",
       "      <td>True</td>\n",
       "    </tr>\n",
       "    <tr>\n",
       "      <th>53</th>\n",
       "      <td>demand_lag3</td>\n",
       "      <td>True</td>\n",
       "    </tr>\n",
       "    <tr>\n",
       "      <th>54</th>\n",
       "      <td>demand_lag4</td>\n",
       "      <td>True</td>\n",
       "    </tr>\n",
       "    <tr>\n",
       "      <th>55</th>\n",
       "      <td>demand_lag5</td>\n",
       "      <td>False</td>\n",
       "    </tr>\n",
       "    <tr>\n",
       "      <th>56</th>\n",
       "      <td>demand_lag6</td>\n",
       "      <td>False</td>\n",
       "    </tr>\n",
       "  </tbody>\n",
       "</table>\n",
       "</div>"
      ]
     },
     "metadata": {},
     "execution_count": 32
    }
   ],
   "metadata": {}
  },
  {
   "cell_type": "markdown",
   "source": [
    "Inspect model coefficients for each included feature. The magnitude and direction of the coefficients indicates the effect the features has on the model."
   ],
   "metadata": {}
  },
  {
   "cell_type": "code",
   "execution_count": 33,
   "source": [
    "coefs = supported_features.loc[supported_features['supported'], ].copy()\r\n",
    "coefs['coefficients'] = regr_pipe.named_steps['rfecv'].estimator_.coef_\r\n",
    "coefs.plot.bar('feature', 'coefficients', figsize=(15, 3), legend=False)\r\n",
    "run.log_image(\"LR coefs per feature\", plot=plt)\r\n",
    "plt.show()"
   ],
   "outputs": [
    {
     "output_type": "display_data",
     "data": {
      "text/plain": [
       "<Figure size 1080x216 with 1 Axes>"
      ],
      "image/png": "[encoded data removed]"
     },
     "metadata": {
      "needs_background": "light"
     }
    }
   ],
   "metadata": {
    "scrolled": true
   }
  },
  {
   "cell_type": "code",
   "execution_count": 34,
   "source": [
    "run.complete()"
   ],
   "outputs": [],
   "metadata": {}
  },
  {
   "cell_type": "code",
   "execution_count": 35,
   "source": [
    "X.head()"
   ],
   "outputs": [
    {
     "output_type": "execute_result",
     "data": {
      "text/plain": [
       "   precip   temp  hour  month  dayofweek  temp_lag1  temp_lag2  temp_lag3  \\\n",
       "0     0.0  38.78     6      0          6      39.02      42.61      45.03   \n",
       "1     0.0  42.74     7      0          6      38.78      39.02      42.61   \n",
       "2     0.0  38.90     8      0          6      42.74      38.78      39.02   \n",
       "3     0.0  44.67     9      0          6      38.90      42.74      38.78   \n",
       "4     0.0  47.43    10      0          6      44.67      38.90      42.74   \n",
       "\n",
       "   temp_lag4  temp_lag5  temp_lag6  demand_lag1  demand_lag2  demand_lag3  \\\n",
       "0      45.04      45.89      46.13       4274.7       4275.5       4357.7   \n",
       "1      45.03      45.04      45.89       4324.9       4274.7       4275.5   \n",
       "2      42.61      45.03      45.04       4350.0       4324.9       4274.7   \n",
       "3      39.02      42.61      45.03       4480.9       4350.0       4324.9   \n",
       "4      38.78      39.02      42.61       4664.2       4480.9       4350.0   \n",
       "\n",
       "   demand_lag4  demand_lag5  demand_lag6  \n",
       "0       4542.6       4752.1       4937.5  \n",
       "1       4357.7       4542.6       4752.1  \n",
       "2       4275.5       4357.7       4542.6  \n",
       "3       4274.7       4275.5       4357.7  \n",
       "4       4324.9       4274.7       4275.5  "
      ],
      "text/html": [
       "<div>\n",
       "<style scoped>\n",
       "    .dataframe tbody tr th:only-of-type {\n",
       "        vertical-align: middle;\n",
       "    }\n",
       "\n",
       "    .dataframe tbody tr th {\n",
       "        vertical-align: top;\n",
       "    }\n",
       "\n",
       "    .dataframe thead th {\n",
       "        text-align: right;\n",
       "    }\n",
       "</style>\n",
       "<table border=\"1\" class=\"dataframe\">\n",
       "  <thead>\n",
       "    <tr style=\"text-align: right;\">\n",
       "      <th></th>\n",
       "      <th>precip</th>\n",
       "      <th>temp</th>\n",
       "      <th>hour</th>\n",
       "      <th>month</th>\n",
       "      <th>dayofweek</th>\n",
       "      <th>temp_lag1</th>\n",
       "      <th>temp_lag2</th>\n",
       "      <th>temp_lag3</th>\n",
       "      <th>temp_lag4</th>\n",
       "      <th>temp_lag5</th>\n",
       "      <th>temp_lag6</th>\n",
       "      <th>demand_lag1</th>\n",
       "      <th>demand_lag2</th>\n",
       "      <th>demand_lag3</th>\n",
       "      <th>demand_lag4</th>\n",
       "      <th>demand_lag5</th>\n",
       "      <th>demand_lag6</th>\n",
       "    </tr>\n",
       "  </thead>\n",
       "  <tbody>\n",
       "    <tr>\n",
       "      <th>0</th>\n",
       "      <td>0.0</td>\n",
       "      <td>38.78</td>\n",
       "      <td>6</td>\n",
       "      <td>0</td>\n",
       "      <td>6</td>\n",
       "      <td>39.02</td>\n",
       "      <td>42.61</td>\n",
       "      <td>45.03</td>\n",
       "      <td>45.04</td>\n",
       "      <td>45.89</td>\n",
       "      <td>46.13</td>\n",
       "      <td>4274.7</td>\n",
       "      <td>4275.5</td>\n",
       "      <td>4357.7</td>\n",
       "      <td>4542.6</td>\n",
       "      <td>4752.1</td>\n",
       "      <td>4937.5</td>\n",
       "    </tr>\n",
       "    <tr>\n",
       "      <th>1</th>\n",
       "      <td>0.0</td>\n",
       "      <td>42.74</td>\n",
       "      <td>7</td>\n",
       "      <td>0</td>\n",
       "      <td>6</td>\n",
       "      <td>38.78</td>\n",
       "      <td>39.02</td>\n",
       "      <td>42.61</td>\n",
       "      <td>45.03</td>\n",
       "      <td>45.04</td>\n",
       "      <td>45.89</td>\n",
       "      <td>4324.9</td>\n",
       "      <td>4274.7</td>\n",
       "      <td>4275.5</td>\n",
       "      <td>4357.7</td>\n",
       "      <td>4542.6</td>\n",
       "      <td>4752.1</td>\n",
       "    </tr>\n",
       "    <tr>\n",
       "      <th>2</th>\n",
       "      <td>0.0</td>\n",
       "      <td>38.90</td>\n",
       "      <td>8</td>\n",
       "      <td>0</td>\n",
       "      <td>6</td>\n",
       "      <td>42.74</td>\n",
       "      <td>38.78</td>\n",
       "      <td>39.02</td>\n",
       "      <td>42.61</td>\n",
       "      <td>45.03</td>\n",
       "      <td>45.04</td>\n",
       "      <td>4350.0</td>\n",
       "      <td>4324.9</td>\n",
       "      <td>4274.7</td>\n",
       "      <td>4275.5</td>\n",
       "      <td>4357.7</td>\n",
       "      <td>4542.6</td>\n",
       "    </tr>\n",
       "    <tr>\n",
       "      <th>3</th>\n",
       "      <td>0.0</td>\n",
       "      <td>44.67</td>\n",
       "      <td>9</td>\n",
       "      <td>0</td>\n",
       "      <td>6</td>\n",
       "      <td>38.90</td>\n",
       "      <td>42.74</td>\n",
       "      <td>38.78</td>\n",
       "      <td>39.02</td>\n",
       "      <td>42.61</td>\n",
       "      <td>45.03</td>\n",
       "      <td>4480.9</td>\n",
       "      <td>4350.0</td>\n",
       "      <td>4324.9</td>\n",
       "      <td>4274.7</td>\n",
       "      <td>4275.5</td>\n",
       "      <td>4357.7</td>\n",
       "    </tr>\n",
       "    <tr>\n",
       "      <th>4</th>\n",
       "      <td>0.0</td>\n",
       "      <td>47.43</td>\n",
       "      <td>10</td>\n",
       "      <td>0</td>\n",
       "      <td>6</td>\n",
       "      <td>44.67</td>\n",
       "      <td>38.90</td>\n",
       "      <td>42.74</td>\n",
       "      <td>38.78</td>\n",
       "      <td>39.02</td>\n",
       "      <td>42.61</td>\n",
       "      <td>4664.2</td>\n",
       "      <td>4480.9</td>\n",
       "      <td>4350.0</td>\n",
       "      <td>4324.9</td>\n",
       "      <td>4274.7</td>\n",
       "      <td>4275.5</td>\n",
       "    </tr>\n",
       "  </tbody>\n",
       "</table>\n",
       "</div>"
      ]
     },
     "metadata": {},
     "execution_count": 35
    }
   ],
   "metadata": {}
  },
  {
   "cell_type": "code",
   "execution_count": null,
   "source": [],
   "outputs": [],
   "metadata": {}
  }
 ],
 "metadata": {
  "kernelspec": {
   "name": "python3",
   "display_name": "Python 3.9.5 64-bit ('.venv': venv)"
  },
  "language_info": {
   "codemirror_mode": {
    "name": "ipython",
    "version": 3
   },
   "file_extension": ".py",
   "mimetype": "text/x-python",
   "name": "python",
   "nbconvert_exporter": "python",
   "pygments_lexer": "ipython3",
   "version": "3.9.5"
  },
  "interpreter": {
   "hash": "f1ad0b564f481ac20856023b17eed6887e659bb9de483c83dfe0d966d3161330"
  }
 },
 "nbformat": 4,
 "nbformat_minor": 2
}